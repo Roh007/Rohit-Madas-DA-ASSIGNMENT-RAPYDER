{
 "cells": [
  {
   "cell_type": "code",
   "execution_count": 1,
   "metadata": {},
   "outputs": [],
   "source": [
    "import pandas as pd"
   ]
  },
  {
   "cell_type": "code",
   "execution_count": 2,
   "metadata": {},
   "outputs": [],
   "source": [
    "df = pd.read_csv('DA-Data-Analyst-interview-assignment-Data.csv')"
   ]
  },
  {
   "cell_type": "code",
   "execution_count": 3,
   "metadata": {},
   "outputs": [
    {
     "data": {
      "text/html": [
       "<div>\n",
       "<style scoped>\n",
       "    .dataframe tbody tr th:only-of-type {\n",
       "        vertical-align: middle;\n",
       "    }\n",
       "\n",
       "    .dataframe tbody tr th {\n",
       "        vertical-align: top;\n",
       "    }\n",
       "\n",
       "    .dataframe thead th {\n",
       "        text-align: right;\n",
       "    }\n",
       "</style>\n",
       "<table border=\"1\" class=\"dataframe\">\n",
       "  <thead>\n",
       "    <tr style=\"text-align: right;\">\n",
       "      <th></th>\n",
       "      <th>Uniq Id</th>\n",
       "      <th>Crawl Timestamp</th>\n",
       "      <th>Job Title</th>\n",
       "      <th>Job Salary</th>\n",
       "      <th>Job Experience Required</th>\n",
       "      <th>Key Skills</th>\n",
       "      <th>Role Category</th>\n",
       "      <th>Location</th>\n",
       "      <th>Functional Area</th>\n",
       "      <th>Industry</th>\n",
       "      <th>Role</th>\n",
       "    </tr>\n",
       "  </thead>\n",
       "  <tbody>\n",
       "    <tr>\n",
       "      <th>0</th>\n",
       "      <td>9be62c49a0b7ebe982a4af1edaa7bc5f</td>\n",
       "      <td>2019-07-05 01:46:07 +0000</td>\n",
       "      <td>Digital Media Planner</td>\n",
       "      <td>Not Disclosed by Recruiter</td>\n",
       "      <td>5 - 10 yrs</td>\n",
       "      <td>Media Planning| Digital Media</td>\n",
       "      <td>Advertising</td>\n",
       "      <td>Mumbai</td>\n",
       "      <td>Marketing , Advertising , MR , PR , Media Plan...</td>\n",
       "      <td>Advertising, PR, MR, Event Management</td>\n",
       "      <td>Media Planning Executive/Manager</td>\n",
       "    </tr>\n",
       "    <tr>\n",
       "      <th>1</th>\n",
       "      <td>3c52d436e39f596b22519da2612f6a56</td>\n",
       "      <td>2019-07-06 08:04:50 +0000</td>\n",
       "      <td>Online Bidding Executive</td>\n",
       "      <td>Not Disclosed by Recruiter</td>\n",
       "      <td>2 - 5 yrs</td>\n",
       "      <td>pre sales| closing| software knowledge| clien...</td>\n",
       "      <td>Retail Sales</td>\n",
       "      <td>Pune,Pune</td>\n",
       "      <td>Sales , Retail , Business Development</td>\n",
       "      <td>IT-Software, Software Services</td>\n",
       "      <td>Sales Executive/Officer</td>\n",
       "    </tr>\n",
       "    <tr>\n",
       "      <th>2</th>\n",
       "      <td>ffad8a2396c60be2bf6d0e2ff47c58d4</td>\n",
       "      <td>2019-08-05 15:50:44 +0000</td>\n",
       "      <td>Trainee Research/ Research Executive- Hi- Tec...</td>\n",
       "      <td>Not Disclosed by Recruiter</td>\n",
       "      <td>0 - 1 yrs</td>\n",
       "      <td>Computer science| Fabrication| Quality check|...</td>\n",
       "      <td>R&amp;D</td>\n",
       "      <td>Gurgaon</td>\n",
       "      <td>Engineering Design , R&amp;D</td>\n",
       "      <td>Recruitment, Staffing</td>\n",
       "      <td>R&amp;D Executive</td>\n",
       "    </tr>\n",
       "    <tr>\n",
       "      <th>3</th>\n",
       "      <td>7b921f51b5c2fb862b4a5f7a54c37f75</td>\n",
       "      <td>2019-08-05 15:31:56 +0000</td>\n",
       "      <td>Technical Support</td>\n",
       "      <td>2,00,000 - 4,00,000 PA.</td>\n",
       "      <td>0 - 5 yrs</td>\n",
       "      <td>Technical Support</td>\n",
       "      <td>Admin/Maintenance/Security/Datawarehousing</td>\n",
       "      <td>Mumbai</td>\n",
       "      <td>IT Software - Application Programming , Mainte...</td>\n",
       "      <td>IT-Software, Software Services</td>\n",
       "      <td>Technical Support Engineer</td>\n",
       "    </tr>\n",
       "    <tr>\n",
       "      <th>4</th>\n",
       "      <td>2d8b7d44e138a54d5dc841163138de50</td>\n",
       "      <td>2019-07-05 02:48:29 +0000</td>\n",
       "      <td>Software Test Engineer -hyderabad</td>\n",
       "      <td>Not Disclosed by Recruiter</td>\n",
       "      <td>2 - 5 yrs</td>\n",
       "      <td>manual testing| test engineering| test cases|...</td>\n",
       "      <td>Programming &amp; Design</td>\n",
       "      <td>Hyderabad</td>\n",
       "      <td>IT Software - QA &amp; Testing</td>\n",
       "      <td>IT-Software, Software Services</td>\n",
       "      <td>Testing Engineer</td>\n",
       "    </tr>\n",
       "  </tbody>\n",
       "</table>\n",
       "</div>"
      ],
      "text/plain": [
       "                            Uniq Id            Crawl Timestamp  \\\n",
       "0  9be62c49a0b7ebe982a4af1edaa7bc5f  2019-07-05 01:46:07 +0000   \n",
       "1  3c52d436e39f596b22519da2612f6a56  2019-07-06 08:04:50 +0000   \n",
       "2  ffad8a2396c60be2bf6d0e2ff47c58d4  2019-08-05 15:50:44 +0000   \n",
       "3  7b921f51b5c2fb862b4a5f7a54c37f75  2019-08-05 15:31:56 +0000   \n",
       "4  2d8b7d44e138a54d5dc841163138de50  2019-07-05 02:48:29 +0000   \n",
       "\n",
       "                                           Job Title  \\\n",
       "0                              Digital Media Planner   \n",
       "1                           Online Bidding Executive   \n",
       "2   Trainee Research/ Research Executive- Hi- Tec...   \n",
       "3                                  Technical Support   \n",
       "4                  Software Test Engineer -hyderabad   \n",
       "\n",
       "                     Job Salary Job Experience Required  \\\n",
       "0   Not Disclosed by Recruiter               5 - 10 yrs   \n",
       "1   Not Disclosed by Recruiter                2 - 5 yrs   \n",
       "2   Not Disclosed by Recruiter                0 - 1 yrs   \n",
       "3      2,00,000 - 4,00,000 PA.                0 - 5 yrs   \n",
       "4   Not Disclosed by Recruiter                2 - 5 yrs   \n",
       "\n",
       "                                          Key Skills  \\\n",
       "0                      Media Planning| Digital Media   \n",
       "1   pre sales| closing| software knowledge| clien...   \n",
       "2   Computer science| Fabrication| Quality check|...   \n",
       "3                                  Technical Support   \n",
       "4   manual testing| test engineering| test cases|...   \n",
       "\n",
       "                                Role Category   Location  \\\n",
       "0                                 Advertising     Mumbai   \n",
       "1                                Retail Sales  Pune,Pune   \n",
       "2                                         R&D    Gurgaon   \n",
       "3  Admin/Maintenance/Security/Datawarehousing     Mumbai   \n",
       "4                        Programming & Design  Hyderabad   \n",
       "\n",
       "                                     Functional Area  \\\n",
       "0  Marketing , Advertising , MR , PR , Media Plan...   \n",
       "1              Sales , Retail , Business Development   \n",
       "2                           Engineering Design , R&D   \n",
       "3  IT Software - Application Programming , Mainte...   \n",
       "4                         IT Software - QA & Testing   \n",
       "\n",
       "                                Industry                              Role  \n",
       "0  Advertising, PR, MR, Event Management  Media Planning Executive/Manager  \n",
       "1         IT-Software, Software Services           Sales Executive/Officer  \n",
       "2                  Recruitment, Staffing                     R&D Executive  \n",
       "3         IT-Software, Software Services        Technical Support Engineer  \n",
       "4         IT-Software, Software Services                  Testing Engineer  "
      ]
     },
     "execution_count": 3,
     "metadata": {},
     "output_type": "execute_result"
    }
   ],
   "source": [
    "df.head()"
   ]
  },
  {
   "cell_type": "code",
   "execution_count": 4,
   "metadata": {},
   "outputs": [
    {
     "data": {
      "text/plain": [
       "['Uniq Id',\n",
       " 'Crawl Timestamp',\n",
       " 'Job Title',\n",
       " 'Job Salary',\n",
       " 'Job Experience Required',\n",
       " 'Key Skills',\n",
       " 'Role Category',\n",
       " 'Location',\n",
       " 'Functional Area',\n",
       " 'Industry',\n",
       " 'Role']"
      ]
     },
     "execution_count": 4,
     "metadata": {},
     "output_type": "execute_result"
    }
   ],
   "source": [
    "df.columns.values.tolist()"
   ]
  },
  {
   "cell_type": "code",
   "execution_count": 5,
   "metadata": {},
   "outputs": [
    {
     "data": {
      "text/plain": [
       "['Uniq Id',\n",
       " 'Crawl Timestamp',\n",
       " 'Job Title',\n",
       " 'Job Salary',\n",
       " 'Job Experience Required',\n",
       " 'Key Skills',\n",
       " 'Role Category',\n",
       " 'Location',\n",
       " 'Functional Area',\n",
       " 'Industry',\n",
       " 'Role']"
      ]
     },
     "execution_count": 5,
     "metadata": {},
     "output_type": "execute_result"
    }
   ],
   "source": [
    "df.columns.values.tolist()"
   ]
  },
  {
   "cell_type": "markdown",
   "metadata": {},
   "source": [
    "# What are the Job Opportunities in the Top 20 cities?"
   ]
  },
  {
   "cell_type": "code",
   "execution_count": 6,
   "metadata": {},
   "outputs": [
    {
     "data": {
      "text/plain": [
       " Business Development Executive    120\n",
       " Sales Executive                   120\n",
       " PHP Developer                     117\n",
       " Business Development Manager       99\n",
       " Graphic Designer                   84\n",
       " Software Engineer                  79\n",
       " Java Developer                     77\n",
       " Android Developer                  77\n",
       " Content Writer                     74\n",
       " Sales Manager                      72\n",
       " Business Analyst                   62\n",
       " Senior Software Engineer           61\n",
       " Marketing Executive                59\n",
       " Web Designer                       58\n",
       " Dot Net Developer                  57\n",
       "Job Description                     57\n",
       " Software Developer                 46\n",
       " Project Manager                    43\n",
       " HR Executive                       42\n",
       " Accounts Executive                 40\n",
       "Name: Job Title, dtype: int64"
      ]
     },
     "execution_count": 6,
     "metadata": {},
     "output_type": "execute_result"
    }
   ],
   "source": [
    "df['Job Title'].value_counts()[:20]"
   ]
  },
  {
   "cell_type": "code",
   "execution_count": 7,
   "metadata": {},
   "outputs": [
    {
     "data": {
      "text/plain": [
       "Bengaluru                  4986\n",
       "Mumbai                     3318\n",
       "Pune                       2431\n",
       "Hyderabad                  2144\n",
       "Gurgaon                    1715\n",
       "Chennai                    1564\n",
       "Kolkata                    1339\n",
       "Delhi                      1212\n",
       "Noida                      1141\n",
       "Ahmedabad                  1032\n",
       "Delhi NCR                   734\n",
       "Chandigarh                  304\n",
       " Bengaluru                  229\n",
       "Navi Mumbai                 167\n",
       "Delhi NCR,Gurgaon           141\n",
       " Hyderabad                  137\n",
       "Faridabad                   121\n",
       "Delhi NCR,Gurgaon,Noida     113\n",
       "Mumbai,Mumbai Suburbs        93\n",
       "Ghaziabad                    84\n",
       "Name: Location, dtype: int64"
      ]
     },
     "execution_count": 7,
     "metadata": {},
     "output_type": "execute_result"
    }
   ],
   "source": [
    "df['Location'].value_counts()[:20]"
   ]
  },
  {
   "cell_type": "code",
   "execution_count": 8,
   "metadata": {},
   "outputs": [
    {
     "name": "stderr",
     "output_type": "stream",
     "text": [
      "<ipython-input-8-15883b6dcd1a>:4: SettingWithCopyWarning: \n",
      "A value is trying to be set on a copy of a slice from a DataFrame.\n",
      "Try using .loc[row_indexer,col_indexer] = value instead\n",
      "\n",
      "See the caveats in the documentation: https://pandas.pydata.org/pandas-docs/stable/user_guide/indexing.html#returning-a-view-versus-a-copy\n",
      "  top_20_city_data['Location'] = top_20_city_data['Location'].apply(strip)\n"
     ]
    }
   ],
   "source": [
    "strip = lambda x: x.strip()\n",
    "\n",
    "top_20_city_data = df[df['Location'].isin(df['Location'].value_counts().keys().tolist()[:20])]\n",
    "top_20_city_data['Location'] = top_20_city_data['Location'].apply(strip)"
   ]
  },
  {
   "cell_type": "code",
   "execution_count": 9,
   "metadata": {},
   "outputs": [
    {
     "data": {
      "text/plain": [
       "Bengaluru                  4986\n",
       "Mumbai                     3318\n",
       "Pune                       2431\n",
       "Hyderabad                  2144\n",
       "Gurgaon                    1715\n",
       "Chennai                    1564\n",
       "Kolkata                    1339\n",
       "Delhi                      1212\n",
       "Noida                      1141\n",
       "Ahmedabad                  1032\n",
       "Delhi NCR                   734\n",
       "Chandigarh                  304\n",
       " Bengaluru                  229\n",
       "Navi Mumbai                 167\n",
       "Delhi NCR,Gurgaon           141\n",
       " Hyderabad                  137\n",
       "Faridabad                   121\n",
       "Delhi NCR,Gurgaon,Noida     113\n",
       "Mumbai,Mumbai Suburbs        93\n",
       "Ghaziabad                    84\n",
       "Name: Location, dtype: int64"
      ]
     },
     "execution_count": 9,
     "metadata": {},
     "output_type": "execute_result"
    }
   ],
   "source": [
    "df['Location'].value_counts()[:20]"
   ]
  },
  {
   "cell_type": "code",
   "execution_count": 10,
   "metadata": {},
   "outputs": [
    {
     "name": "stdout",
     "output_type": "stream",
     "text": [
      "1.3.3\n"
     ]
    }
   ],
   "source": [
    "from mpl_toolkits import basemap\n",
    "print(basemap.__version__)"
   ]
  },
  {
   "cell_type": "code",
   "execution_count": 11,
   "metadata": {},
   "outputs": [],
   "source": [
    "import matplotlib.pyplot as plt\n",
    "from mpl_toolkits.basemap import Basemap\n",
    "import numpy as np"
   ]
  },
  {
   "cell_type": "code",
   "execution_count": 12,
   "metadata": {},
   "outputs": [
    {
     "data": {
      "image/png": "[encoded data removed]",
      "text/plain": [
       "<Figure size 864x432 with 1 Axes>"
      ]
     },
     "metadata": {},
     "output_type": "display_data"
    }
   ],
   "source": [
    "fig = plt.figure(figsize=(12,6))\n",
    "m = Basemap(\n",
    " projection='mill',\n",
    " resolution='c',\n",
    " llcrnrlat=7.890072140756692,\n",
    " llcrnrlon=64.6128442670092,\n",
    " urcrnrlat=39.31741853835297,\n",
    " urcrnrlon=97.64121300133036\n",
    " )\n",
    "m.drawcoastlines() # to draw continental coast lines\n",
    "m.drawcountries(color='r')\n",
    "m.drawmapboundary(color='orange',linewidth=5)\n",
    "top_20_city = ['Bengalore','Mumbai','Pune','Hyderabad','Gurgaon','Chennai','Kolkata','Noida','Ahmedabad','Delhi NCR','Faridabad','Ghazibad']\n",
    "longitudes = [77.580643,72.877426,73.856255,78.491684,77.026344,80.237617,88.363892,77.391029,72.585022,77.216721,77.315292,77.449791]\n",
    "latitudes = [12.972442,19.076090,18.516726,17.387140,28.457523,13.067439,22.572645,28.535517,23.033863,28.644800,28.395403,28.667856]\n",
    "x,y = m(longitudes,latitudes)\n",
    "plt.scatter(x,y,s=15,color='red')\n",
    "for i,label in enumerate(top_20_city):\n",
    "    plt.text(x[i]+100000,y[i],label)\n",
    "plt.show()"
   ]
  },
  {
   "cell_type": "markdown",
   "metadata": {},
   "source": [
    "# What are the Job Opportunities in the Top 20 Industries?"
   ]
  },
  {
   "cell_type": "code",
   "execution_count": 13,
   "metadata": {},
   "outputs": [
    {
     "data": {
      "text/plain": [
       " Business Development Executive    120\n",
       " Sales Executive                   120\n",
       " PHP Developer                     117\n",
       " Business Development Manager       99\n",
       " Graphic Designer                   84\n",
       " Software Engineer                  79\n",
       " Java Developer                     77\n",
       " Android Developer                  77\n",
       " Content Writer                     74\n",
       " Sales Manager                      72\n",
       " Business Analyst                   62\n",
       " Senior Software Engineer           61\n",
       " Marketing Executive                59\n",
       " Web Designer                       58\n",
       " Dot Net Developer                  57\n",
       "Job Description                     57\n",
       " Software Developer                 46\n",
       " Project Manager                    43\n",
       " HR Executive                       42\n",
       " Accounts Executive                 40\n",
       "Name: Job Title, dtype: int64"
      ]
     },
     "execution_count": 13,
     "metadata": {},
     "output_type": "execute_result"
    }
   ],
   "source": [
    "df['Job Title'].value_counts()[:20]"
   ]
  },
  {
   "cell_type": "code",
   "execution_count": 14,
   "metadata": {},
   "outputs": [
    {
     "data": {
      "text/plain": [
       "Bengaluru                  4986\n",
       "Mumbai                     3318\n",
       "Pune                       2431\n",
       "Hyderabad                  2144\n",
       "Gurgaon                    1715\n",
       "Chennai                    1564\n",
       "Kolkata                    1339\n",
       "Delhi                      1212\n",
       "Noida                      1141\n",
       "Ahmedabad                  1032\n",
       "Delhi NCR                   734\n",
       "Chandigarh                  304\n",
       " Bengaluru                  229\n",
       "Navi Mumbai                 167\n",
       "Delhi NCR,Gurgaon           141\n",
       " Hyderabad                  137\n",
       "Faridabad                   121\n",
       "Delhi NCR,Gurgaon,Noida     113\n",
       "Mumbai,Mumbai Suburbs        93\n",
       "Ghaziabad                    84\n",
       "Name: Location, dtype: int64"
      ]
     },
     "execution_count": 14,
     "metadata": {},
     "output_type": "execute_result"
    }
   ],
   "source": [
    "df['Location'].value_counts()[:20]"
   ]
  },
  {
   "cell_type": "code",
   "execution_count": 15,
   "metadata": {},
   "outputs": [],
   "source": [
    "strip = lambda x: x.strip()\n",
    "\n",
    "top_20_industry_data = df[df['Industry'].isin(df['Industry'].value_counts().keys().tolist()[:20])]"
   ]
  },
  {
   "cell_type": "code",
   "execution_count": 16,
   "metadata": {},
   "outputs": [
    {
     "data": {
      "text/plain": [
       "IT-Software, Software Services                         10012\n",
       "Recruitment, Staffing                                   2721\n",
       "BPO, Call Centre, ITeS                                  1754\n",
       "Banking, Financial Services, Broking                    1685\n",
       "Education, Teaching, Training                           1364\n",
       "IT-Software / Software Services                          786\n",
       "Medical, Healthcare, Hospitals                           676\n",
       "Internet, Ecommerce                                      585\n",
       "Construction, Engineering, Cement, Metals                566\n",
       "Strategy, Management Consulting Firms                    532\n",
       "Travel , Hotels , Restaurants , Airlines , Railways      510\n",
       "Automobile, Auto Anciliary, Auto Components              498\n",
       "Pharma, Biotech, Clinical Research                       466\n",
       "Media, Entertainment, Internet                           459\n",
       "Industrial Products, Heavy Machinery                     459\n",
       "Other                                                    424\n",
       "Advertising, PR, MR, Event Management                    403\n",
       "Real Estate, Property                                    393\n",
       "Insurance                                                343\n",
       "Oil and Gas, Energy, Power, Infrastructure               317\n",
       "Name: Industry, dtype: int64"
      ]
     },
     "execution_count": 16,
     "metadata": {},
     "output_type": "execute_result"
    }
   ],
   "source": [
    "top_20_industry_data['Industry'].value_counts()[:20]"
   ]
  },
  {
   "cell_type": "code",
   "execution_count": null,
   "metadata": {},
   "outputs": [],
   "source": []
  },
  {
   "cell_type": "markdown",
   "metadata": {},
   "source": [
    "# What are the Top 20 Job Categories"
   ]
  },
  {
   "cell_type": "code",
   "execution_count": 17,
   "metadata": {},
   "outputs": [
    {
     "data": {
      "text/plain": [
       "Programming & Design                          8551\n",
       "Voice                                         2385\n",
       "Retail Sales                                  2359\n",
       "HR/ Recruitment / IR                          1133\n",
       "Admin/Maintenance/Security/Datawarehousing     928\n",
       "Accounts                                       882\n",
       "Senior Management                              880\n",
       "Other                                          865\n",
       "Corporate Sales                                704\n",
       "Production/Manufacturing/Maintenance           592\n",
       "System Design/Implementation/ERP/CRM           507\n",
       "Marketing                                      487\n",
       "Medical Professional                           438\n",
       "Creative                                       396\n",
       "Engineering Design                             368\n",
       "Finance/Audit                                  339\n",
       "Teachers                                       329\n",
       "Project Management                             311\n",
       "University Level                               305\n",
       "Back Office/Web/Transaction Processing         294\n",
       "Name: Role Category, dtype: int64"
      ]
     },
     "execution_count": 17,
     "metadata": {},
     "output_type": "execute_result"
    }
   ],
   "source": [
    "df['Role Category'].value_counts()[:20]"
   ]
  },
  {
   "cell_type": "markdown",
   "metadata": {},
   "source": [
    "# What are the Top 20 Job Roles?"
   ]
  },
  {
   "cell_type": "code",
   "execution_count": 18,
   "metadata": {},
   "outputs": [
    {
     "data": {
      "text/plain": [
       "Software Developer                            6396\n",
       "Associate/Senior Associate -(NonTechnical)    1728\n",
       "Sales/Business Development Manager            1561\n",
       "Sales Executive/Officer                       1168\n",
       "Other                                          896\n",
       "Team Lead/Technical Lead                       847\n",
       "Associate/Senior Associate -(Technical)        513\n",
       "Accounts Executive/Accountant                  511\n",
       "Recruitment Executive                          427\n",
       "Testing Engineer                               408\n",
       "Fresher                                        380\n",
       "Technical Architect                            366\n",
       "System Administrator                           318\n",
       "HR Executive                                   297\n",
       "Business Analyst                               268\n",
       "Design Engineer                                230\n",
       "Telecalling/Telemarketing Executive            227\n",
       "Head/VP/GM/National Manager -Sales             216\n",
       "Project Manager-IT/Software                    215\n",
       "Marketing Manager                              207\n",
       "Name: Role, dtype: int64"
      ]
     },
     "execution_count": 18,
     "metadata": {},
     "output_type": "execute_result"
    }
   ],
   "source": [
    "df['Role'].value_counts()[:20]"
   ]
  },
  {
   "cell_type": "markdown",
   "metadata": {},
   "source": [
    "# What is the Top 5 Location for Top 20 Industries?"
   ]
  },
  {
   "cell_type": "code",
   "execution_count": 19,
   "metadata": {},
   "outputs": [
    {
     "data": {
      "text/plain": [
       "Bengaluru    4332\n",
       "Mumbai       2729\n",
       "Pune         2155\n",
       "Hyderabad    1858\n",
       "Gurgaon      1453\n",
       "Name: Location, dtype: int64"
      ]
     },
     "execution_count": 19,
     "metadata": {},
     "output_type": "execute_result"
    }
   ],
   "source": [
    "top_20_industry_data['Location'].value_counts()[:5]"
   ]
  },
  {
   "cell_type": "markdown",
   "metadata": {},
   "source": [
    "# What are the Skills required for various job categories?"
   ]
  },
  {
   "cell_type": "code",
   "execution_count": 20,
   "metadata": {},
   "outputs": [],
   "source": [
    "strip = lambda x: str(x).strip()\n",
    "col_preprocess = ['Key Skills', 'Role Category']\n",
    "\n",
    "for col in col_preprocess:\n",
    "    df[col] = df[col].apply(strip)"
   ]
  },
  {
   "cell_type": "code",
   "execution_count": 21,
   "metadata": {},
   "outputs": [
    {
     "data": {
      "text/plain": [
       "'Media Planning| Digital Media,nan,Internship| Digital marketing| Social media| Relationship building| Animation| Creative| Indesign| Business Executive| Presentation skills| Senior,event production| Client Servicing| event operation| mice| events| conferences| event coordinator,Excel| Financial markets| corporate events| Public speaking| Digital marketing| Powerpoint| Marketing communication| Marketing Executive| Event Executive| Marketing,Campaigns| Digital Marketing| Project Planning,Account Manager| Client Servicing| Key account manager| Account Management| Digital Strategy| brand solutions| brand management,Client Servicing| relationship management| business development,Market research| Digital marketing| Social media| SEM| Print media| Analytics| Monitoring| Display advertising| UX| Analytical skills,customer service| customer support| ms office| client servicing| relationship management| Client Relationship Management| client relation| customer relation| customer care| cse,Marketing| Events| Sales| Presentation Skills| Exhibitions| Fund Raising| Communication Skills,digital marketing|online marketing|sem|search engine marketing|pay per click|google adwords professional|media planning|social media marketing|programmatic|paid media|digital campaigns|campaign management|campaign planning|Google Analytics|DCB,Social Media Executive| Digital Marketing Executive| facebook marketing| Management,Mba Fresher,Client Servicing| Project Mananger| Project Manager Event| Client s Executive| Manager Client Servicing| Client Associate| Event Manager| Assistant Event Manager| Brand Activation| Activation Officer,Relationship management| Brand communication| Management,Social media marketing| Customer support,Social media marketing| SEO| Digital marketing| Email marketing| Team management| Google Analytics| Monitoring| Campaign planning| marketing automation| digital strategy,Internet Advertising| Online Promotion| Freelancer| Online Marketing| Digital Marketing| Fresher| Part Time,FMCG Marketing| Promotions| Events| Communications skills| Brand Promotion| Marketing Executive| Presentation skills| Ms office,Social media marketing| Display advertising| Web technologies| SMO| Analytical| Marketing campaigns| SEO| Digital marketing| Search engine optimization,seo| social media| marketing strategy| social media marketing| facebook| twitter| analytics| social marketing| inbound| qualitative,English| Social marketing| Bidding| Email| Email marketing| Campaign management| Analytical| Service| Advertising| Data entry,Business Executive,Advertising,social media marketing| seo| campaigns| digital advertising| sem| website management| facebook| promotions| twitter| campaign management| brand| atl| Marcom| branding| digital marketing| online marketing,Credit Officers| Risk Management| Administration| Report Generation| Policies| Analysts| analytical skills,nan,Sales| Cold Calling| Business Development,Business Analyst| English| Tracking| CV| Manager Client Servicing| Writing| Relationship| Agency| mass| Hons,Social media marketing| Linkedin| Content strategy| CV| Social media| consumer marketing| Campaigns| Digital marketing| Facebook| Business Executive,accounts executive| Brand Manager| client servicing| client management| content strategy| accounts manager,Tracking| Online media| Negotiation skills| Media planning| Negotiation| Support| Compliance| Budgeting| Writing| Agency,btl activation| Atl| marketing management| events| Marketing,Social media marketing| Web technologies| SMO| Web analytics| Networking| Corporate| content marketing| Management| Brand building| Monitoring,nan,sales account| digital marketing| social media| seo| client servicing| strategy| account management| digital strategy| presales,online promotion| seo executive| web development| work from| internet marketing| freelancer| online advertising| part time,Market analysis| Backend| Client satisfaction| Brand activation| Tracking| Conceptualization| Strategic business planning| Cross selling| Business Executive| Project execution,Social Media Manager| Social Media Marketing| Social Media Optimization,marketing| international business| Business Development| client servicing| International Marketing| international business development| Marketing Manager| Marketing Management| business development management,Digital Marketing| HR| Typing| Computer Operating| Human Resource Management| Hospitality| Facebook Marketing| Telecalling| telemarketing,English| advertising agency| SMM| Content| Writing| SEM| SEO| Business Executive,Media| Billing| Email| closure| Tracking| Internal communication| Reconciliation| Cross selling| confirmation| Client Service Executive,Social media| Budgeting,Public relations| Typing| Product service| Marketing campaigns| Distribution| sponsorship| Time| Research| Marketing Executive| Advertising,nan,nan,Profit head| Curriculum| Journalism| Trainee| Database| Research| Education| Publishing| Entry Level| Technology,Market research| Monitoring| Strategic thinking| National| SupportReport preparation| Target| Trainee| Regional Coordinator,Social media marketing| Analytical skills| Lead generation| Usage| Management,operations| sound| setup| handling| btl activities| travel| events,Sales Coordinator| Marketing Consultant| Sales Supprot| Sales Advisor,Media research| Agency sales| Revenue generation| Radio| Station| Printing,Sales| Telecalling| Back office| Marketing Coordinator| Vendor| Counselling,nan,analytics| algorithms| ppc| smm| adwords| smo| team lead| sem| company| seo,BPO| Social media marketing| Digital media| Consulting| HTML| Customer relationship| ITES| Management| CRM,PPC| Copy writing| Internet marketing| SEM| Pay per click| Management| Merchandising| Facebook| international clients| Analytics,Sales| Social Media| Proof Reading| Editing| Team Leading| Campaigns| Copy Writing,Analytics| HTML| SEM| Javascript| PPC| Event management| Digital marketing| Customer acquisition| Tools| Algorithms,Trade| Event Executive,Digital media| Email marketing| Digital design| Social media| Production operations| Billing| CMS| digital strategy| SEO| Digital marketing,Key Accounts Management| business growth| key accounts,Team Leader,Media Management| Linkedin| Social Media| blogs| Youtube| Twitter| Facebook| content,Trade| Online media| Usage| Media strategy| Social media| Brand awareness| Research| Management| Business Executive| Analytics,Video Editing| Video,Digital Marketing| Advertising| Design| Media Buying| Loyalty Programs| Brand Strategy| Mystery Shopping| 3D Rendering| DTP Operating| Real Estate,social media| scheduling| facebook| twitter| coordinating| planning,Event Management| Marketing Collaterals| Marketing,Display advertising| Google Analytics| Social media| Javascript| Google AdWords| SEM| HTML| Omniture| SEO| Digital marketing,digital marketing| client relationship management| new| management skills| team management skills| crisis management| events| quality,Online marketing| SEO| Analytical| Digital marketing| Social media| Analytics| HTML| Javascript| Display advertising| Marketing campaigns,Media Buying| Media Planning| Advertising,Lead Generation| Customer Handling| Post Sales| Marketing| Material Receipt,marketing executive| distributors| customer profiling| Business Development| sales executive,market research| customer profiling| sales executive| marketing executive| distributors| Business Development,Digital Marketing Executive| Strategy making| Sound| Creative| Compensation| Usage,Executive| Excel| Research| Management| Fact| Media planning| Reporting tools| Monitoring,Social media| PCM| Marketing| Digital Marketing,software development| online promotion| Fresher| work from| freelancer| online advertising| part time,bpo| digital marketing| online marketing| fresher| online branding| web marketing| business development| kpo| seo| internet marketing| freelancer| part time,customer marketing| Excel| Inventory management| UPS| MS Office| Powerpoint| Business Executive| Sales support,Manager Client Servicing| Client Service Executive| Silicon| Advertising,digital marketing| team handling,Branded Content| Video Editing| Adobe Premiere| Post Production| Motion Graphics| Social Media| Science| Final Cut Pro| Color Correction| Script Writing,Digital media| Integrated marketing| Client management| Analytics| Media planning| Marketing| Investment,PPC| Display advertising| Email marketing| SMO| Online marketing| Internet marketing| SEM| SEO| Digital marketing,nan,Advertising| Media Relations| Internal Communication| Branding| Customer Support| Customer Service| Twitter| Facebook| Social Media| Customer Satisfaction| Linkedin| Content Writing,online promotion| seo executive| web development| work from| internet marketing| freelancer| online advertising| part time,open source| website| digital media| charts| drafting| gap analysis| documentation| english| sdlc| process flow,Entry Level| Publishing| Trainee| Education| Technology| Database| Journalism| Research,assembly language| Six Sigma| JavaScript| .NET| HTML| Oracle| Python| SQL,Presales| Customer Satisfaction| Excel| Powerpoint,Ad Sales| B2B Sales| Corporate Sales,SEM| Google AdWords| Web analytics| Analytical| digital marketing head| Search engine marketing| SEM Executive| Advertising| Research| Business Executive,blog writing| copy writing| blogs| service marketing| content writing| seo writing| product service| case studies| articles| social media,Social media| Email| Linkedin| Digital Marketing Executive| Business Analyst| Project Coordinator| Client interaction| Spoken english| Technical| Business Executive,Client Onboarding| Customer Experience| Campaign Management| Marketing| Customer Engagement,Customer Relationship| Customer Care| Relationship Management| Receptionist Activities,Digital Advertising| Sales,nan,seo| digital marketing| dealing| email marketing| sem| social media marketing| digital media| affiliate marketing| google adwords| google analytics,operations| customer satisfaction| leadership skills| complaints| microsoft excel| quality,Social media| Publishing| Email| Social media marketing| iPhone| Facebook| Photoshop| Tracking| Google Analytics| Content Editor,nan,development| operations| relationship management| strategy| brand ing| coordinating| conceptualization| ideation| team,Corporate Gifts| Packaging| packaging development,digital marketing| Social Work| computer operating| online marketing| office assistant| social media marketing| back office executive| business development| human resource management| online advertising,Branding| SEO| Publishing| Social media| SEM| Web designing| HTML| Photoshop| Facebook,brand manager| account manager| client servicing| advertising| account management,Social media marketing| Marketing campaigns| Management| Marketing Executive,Social media marketing,Social Media Executive| Interpersonal skills| Typing speed| E-commerce| Troubleshooting| MIN,events| activation| event operations| event manager| vendor management| Event Management| Operations Manager| Btl Activation| Btl,BPO| Online Branding| customer relationship| Digital Marketing| kpo| internet marketing| part time| Freelancer| Online Marketing| Fresher| Web Marketing| Business Development| seo,Marketing Strategy| Twitter| Facebook| Brand Campaigns| Social Media| Customer Engagement| Buyer Activities| Customer Service,Online Promotion| BPO| online marketing| Freelancer| Internet Marketing| MBA Fresher| web marketing| Business Development| Part Time,Manager Quality Assurance| Sales process| Event Coordinator| Supervisor| Packaging| Room| Management,Copy Writing| Content Writing| Proof Reading| Social Media| SEO| Digital Marketing| English Language| Customer Care| Content| content writer| content developer| content editor| creative writer| creative content,Business operations| design studio| Advertising| Executive,photoshop| corel draw| 2d graphics| 3d graphics,Team Management| Channel Partners| Customer Relationship| Project Sales| Client Relationship Management| New Business Development| Strategy Formulation| Sales Management| Marketing| Client Handling,SEO| Social media| Content writing| Analytical skills| Customer management| Head Business Development| Management| Basic| Relationship,marketing| bdm| client servicing| client interaction| sales coordination| back office| fresher| operation| excel| mis| email| marketing executive| client onboarding,digital marketing| marketing strategy| marketing communication| marketing analysis| client servicing| marketing initiatives,market research| customer profiling| sales executive| marketing executive| distributors| Business Development| sales strategy | Digital Media Planner'"
      ]
     },
     "execution_count": 21,
     "metadata": {},
     "output_type": "execute_result"
    }
   ],
   "source": [
    "df.groupby(['Role Category'])['Key Skills'].transform(lambda x: ','.join(x)).tolist()[0]"
   ]
  },
  {
   "cell_type": "markdown",
   "metadata": {},
   "source": [
    "# What is the Average salary offered in the top 10 cities?"
   ]
  },
  {
   "cell_type": "code",
   "execution_count": 22,
   "metadata": {},
   "outputs": [
    {
     "name": "stderr",
     "output_type": "stream",
     "text": [
      "<ipython-input-22-f84275e8d890>:2: SettingWithCopyWarning: \n",
      "A value is trying to be set on a copy of a slice from a DataFrame.\n",
      "Try using .loc[row_indexer,col_indexer] = value instead\n",
      "\n",
      "See the caveats in the documentation: https://pandas.pydata.org/pandas-docs/stable/user_guide/indexing.html#returning-a-view-versus-a-copy\n",
      "  top_20_city_data['Location'] = top_20_city_data['Location'].apply(strip)\n"
     ]
    }
   ],
   "source": [
    "top_20_city_data = df[df['Location'].isin(df['Location'].value_counts().keys().tolist()[:10])]\n",
    "top_20_city_data['Location'] = top_20_city_data['Location'].apply(strip)"
   ]
  },
  {
   "cell_type": "code",
   "execution_count": 23,
   "metadata": {},
   "outputs": [
    {
     "data": {
      "text/plain": [
       "2088.2"
      ]
     },
     "execution_count": 23,
     "metadata": {},
     "output_type": "execute_result"
    }
   ],
   "source": [
    "top_20_city_data['Location'].value_counts()[:10].mean()"
   ]
  },
  {
   "cell_type": "markdown",
   "metadata": {},
   "source": [
    "# What is the Average salary offered by the top 10 Industries in the top 5 locations?"
   ]
  },
  {
   "cell_type": "code",
   "execution_count": 24,
   "metadata": {},
   "outputs": [
    {
     "data": {
      "text/plain": [
       "1535.4"
      ]
     },
     "execution_count": 24,
     "metadata": {},
     "output_type": "execute_result"
    }
   ],
   "source": [
    "top_20_city_data['Industry'].value_counts()[:10].mean()"
   ]
  }
 ],
 "metadata": {
  "kernelspec": {
   "display_name": "Python 3",
   "language": "python",
   "name": "python3"
  },
  "language_info": {
   "codemirror_mode": {
    "name": "ipython",
    "version": 3
   },
   "file_extension": ".py",
   "mimetype": "text/x-python",
   "name": "python",
   "nbconvert_exporter": "python",
   "pygments_lexer": "ipython3",
   "version": "3.8.5"
  }
 },
 "nbformat": 4,
 "nbformat_minor": 4
}
